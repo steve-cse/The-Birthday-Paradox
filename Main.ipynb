{
 "cells": [
  {
   "attachments": {},
   "cell_type": "markdown",
   "metadata": {},
   "source": [
    "\n",
    "<p align=\"center\">\n",
    "<img width=\"160\" height=\"160\" src=\"https://emojipedia-us.s3.dualstack.us-west-1.amazonaws.com/thumbs/320/google/350/partying-face_1f973.png\" >\n",
    "</p> \n",
    "\n",
    "\n",
    "<h1 style=\"text-align: center;\">The Birthday Paradox</h1>\n",
    "\n",
    "\n",
    "\n",
    "\n",
    "<p align=\"center\">\n",
    "In a random group of 23 people, there is about a 50 percent chance that two people have the same birthday.\n",
    "</p> "
   ]
  },
  {
   "cell_type": "code",
   "execution_count": 1,
   "metadata": {},
   "outputs": [],
   "source": [
    "import random\n",
    "import hashlib\n",
    "import os\n",
    "import math\n",
    "from matplotlib import pyplot as plt"
   ]
  },
  {
   "attachments": {},
   "cell_type": "markdown",
   "metadata": {},
   "source": [
    "## Brute Force"
   ]
  },
  {
   "attachments": {},
   "cell_type": "markdown",
   "metadata": {},
   "source": [
    "</p>The assumption is that we have 23 random people. This assumes further, that the birthday of each one of these people is random."
   ]
  },
  {
   "cell_type": "code",
   "execution_count": 61,
   "metadata": {},
   "outputs": [
    {
     "name": "stdout",
     "output_type": "stream",
     "text": [
      "Probability for at least 2 with same birthday in a group of 23\n",
      "P(A) = 0.5079 or 50.79 %\n"
     ]
    }
   ],
   "source": [
    "collision_count = {'Collision': 0, 'No-collision': 0}\n",
    "for i in range(10000):\n",
    "    days = []\n",
    "    for j in range(23):\n",
    "        day = random.randint(0, 365)\n",
    "        days.append(day)\n",
    "    if len(days) == len(set(days)):  # set(…) takes all the unique days in the list\n",
    "        collision_count['No-collision'] += 1\n",
    "    else:\n",
    "        collision_count['Collision'] += 1\n",
    "print(\"Probability for at least 2 with same birthday in a group of 23\")\n",
    "print(\"P(A) =\", collision_count['Collision'] /\n",
    "      (collision_count['Collision'] + collision_count['No-collision']), \"or\", (collision_count['Collision'] /\n",
    "      (collision_count['Collision'] + collision_count['No-collision']))*100, \"%\")\n"
   ]
  },
  {
   "attachments": {},
   "cell_type": "markdown",
   "metadata": {},
   "source": [
    "## Calculating P(A')\n",
    "</p> This probability can be calculated by taking the probability that the first person has a unique birthday (365/365) and multiplying it by the probability that the second person has a unique birthday (364/365), and so on, until you have multiplied the probability that the n-th person has a unique birthday.\n",
    "\n",
    "##### `P(23) = 1 x (364 / 365) x (363 / 365) x … x (343 / 365) = 0.493`\n"
   ]
  },
  {
   "cell_type": "code",
   "execution_count": 4,
   "metadata": {},
   "outputs": [
    {
     "name": "stdout",
     "output_type": "stream",
     "text": [
      "Probability for no-one with same birthday in a group of 23\n",
      "P(A') = 0.4927027656760144 or 49.27027656760144 %\n"
     ]
    }
   ],
   "source": [
    "def prop(n):\n",
    "    if n == 1:\n",
    "        return 1\n",
    "    else:\n",
    "        return (365 - n + 1) / 365 * prop(n - 1)\n",
    "\n",
    "\n",
    "print(\"Probability for no-one with same birthday in a group of 23\")\n",
    "print(\"P(A') =\",  prop(23), \"or\", (prop(23)*100), \"%\")\n"
   ]
  },
  {
   "attachments": {},
   "cell_type": "markdown",
   "metadata": {},
   "source": [
    "## Calculating P(A) from P(A')\n",
    "\n",
    "</p> The probability we look for is given by\n",
    "\n",
    "##### `P(A) = 1 – P(A’)`"
   ]
  },
  {
   "cell_type": "code",
   "execution_count": 6,
   "metadata": {},
   "outputs": [
    {
     "name": "stdout",
     "output_type": "stream",
     "text": [
      "Probability for at least 2 with same birthday in a group of 23\n",
      "P(A) = 0.5072972343239857 or 50.729723432398565 %\n"
     ]
    }
   ],
   "source": [
    "def prop(n):\n",
    "    if n == 1:\n",
    "        return 1\n",
    "    else:\n",
    "        return (365 - n + 1) / 365 * prop(n - 1)\n",
    "\n",
    "\n",
    "print(\"Probability for at least 2 with same birthday in a group of 23\")\n",
    "print(\"P(A) =\",  1-prop(23), \"or\", ((1-prop(23))*100), \"%\")\n"
   ]
  },
  {
   "attachments": {},
   "cell_type": "markdown",
   "metadata": {},
   "source": [
    "## The reverse formula\n",
    "Returns approximate number of people for a given probability </br>\n",
    "\n",
    "\n",
    "<img style=\"filter: invert(1);\"  src=\"https://www.geeksforgeeks.org/wp-content/ql-cache/quicklatex.com-6ee25d04863d0a14f184643f45746e47_l3.svg\" >"
   ]
  },
  {
   "cell_type": "code",
   "execution_count": 21,
   "metadata": {},
   "outputs": [
    {
     "name": "stdout",
     "output_type": "stream",
     "text": [
      "The number of people are 23\n"
     ]
    }
   ],
   "source": [
    "def revprop(p):\n",
    "    return math.ceil(math.sqrt(2 * 365 *\n",
    "                           math.log(1/(1-p))))\n",
    "\n",
    "\n",
    "print(\"The number of people are\",revprop(0.50))\n"
   ]
  },
  {
   "attachments": {},
   "cell_type": "markdown",
   "metadata": {},
   "source": [
    "## Collisions based on a group size"
   ]
  },
  {
   "cell_type": "code",
   "execution_count": 16,
   "metadata": {},
   "outputs": [
    {
     "data": {
      "image/png": "[encoded data removed]",
      "text/plain": [
       "<Figure size 640x480 with 1 Axes>"
      ]
     },
     "metadata": {},
     "output_type": "display_data"
    }
   ],
   "source": [
    "def prop(n):\n",
    "    if n == 1:\n",
    "        return 1\n",
    "    else:\n",
    "        return (365 - n + 1) / 365 * prop(n - 1)\n",
    "\n",
    "\n",
    "X = []\n",
    "Y = []\n",
    "for i in range(1, 90):\n",
    "    X.append(i)\n",
    "    Y.append(1 - prop(i))\n",
    "\n",
    "plt.title(\"Collisions based on a group size\")\n",
    "plt.scatter(X, Y, color='red')\n",
    "plt.xlabel(\"Number of people\")\n",
    "plt.ylabel(\"Probability of collision\")\n",
    "plt.axis([0, 90, 0, 1])\n",
    "plt.show()\n"
   ]
  },
  {
   "attachments": {},
   "cell_type": "markdown",
   "metadata": {},
   "source": [
    "## Application of The Birthday Paradox"
   ]
  },
  {
   "attachments": {},
   "cell_type": "markdown",
   "metadata": {},
   "source": [
    "</p>A hash function is any function that can be used to map data of arbitrary size to fixed-size values. "
   ]
  },
  {
   "cell_type": "code",
   "execution_count": 3,
   "metadata": {},
   "outputs": [
    {
     "name": "stdout",
     "output_type": "stream",
     "text": [
      "b10a8db164e0754105b7a99be72e3fe5\n"
     ]
    }
   ],
   "source": [
    "digest=hashlib.md5(\"Hello World\".encode()).hexdigest() #encode~ converts the string into bytes to be acceptable by hash function.\n",
    "print (digest)"
   ]
  },
  {
   "cell_type": "code",
   "execution_count": 8,
   "metadata": {},
   "outputs": [
    {
     "name": "stdout",
     "output_type": "stream",
     "text": [
      "String Length of Digest: 32\n",
      "Length of hash value: 128\n"
     ]
    }
   ],
   "source": [
    "print (\"String Length of Digest:\",len(digest))\n",
    "print (\"Length of hash value:\",len(digest)*4)  # Each hexadecimal digit represents four bits"
   ]
  },
  {
   "attachments": {},
   "cell_type": "markdown",
   "metadata": {},
   "source": [
    "Here distinct values will be 2^128 = 340282366920938463463374607431768211456. We need a simpler has function...."
   ]
  },
  {
   "cell_type": "code",
   "execution_count": 4,
   "metadata": {},
   "outputs": [
    {
     "name": "stdout",
     "output_type": "stream",
     "text": [
      "b1\n"
     ]
    }
   ],
   "source": [
    "def md5_mod(value):\n",
    "    digest=hashlib.md5(value).hexdigest()\n",
    "    return digest[:2]\n",
    "\n",
    "print (md5_mod(\"Hello World\".encode()))"
   ]
  },
  {
   "attachments": {},
   "cell_type": "markdown",
   "metadata": {},
   "source": [
    "<p>For the above function the number of distinct values will be 2^8 = 256 </p>"
   ]
  },
  {
   "cell_type": "code",
   "execution_count": 47,
   "metadata": {},
   "outputs": [
    {
     "name": "stdout",
     "output_type": "stream",
     "text": [
      "Collisions are 99\n"
     ]
    }
   ],
   "source": [
    "collision_count = 0\n",
    "Lookup_table = {}\n",
    "for i in range(256):\n",
    "    random_bit = os.urandom(16)\n",
    "    digest = md5_mod(random_bit)\n",
    "    if digest in Lookup_table:\n",
    "        collision_count += 1\n",
    "    else:\n",
    "        Lookup_table[digest] = True\n",
    "print(\"Collisions are\", collision_count)\n"
   ]
  },
  {
   "attachments": {},
   "cell_type": "markdown",
   "metadata": {},
   "source": [
    "To approximate the number of times the experiment needs to be run (ie number of people) required for a 1/2 chance of collision, we can use square approximation"
   ]
  },
  {
   "cell_type": "code",
   "execution_count": 49,
   "metadata": {},
   "outputs": [
    {
     "data": {
      "text/plain": [
       "16.0"
      ]
     },
     "execution_count": 49,
     "metadata": {},
     "output_type": "execute_result"
    }
   ],
   "source": [
    "math.sqrt(256)"
   ]
  },
  {
   "cell_type": "code",
   "execution_count": 54,
   "metadata": {},
   "outputs": [
    {
     "name": "stdout",
     "output_type": "stream",
     "text": [
      "Collisions are 2\n"
     ]
    }
   ],
   "source": [
    "collision_count = 0\n",
    "Lookup_table = {}\n",
    "for i in range(16):\n",
    "    random_bit = os.urandom(16)\n",
    "    digest = md5_mod(random_bit)\n",
    "    if digest in Lookup_table:\n",
    "        collision_count += 1\n",
    "    else:\n",
    "        Lookup_table[digest] = True\n",
    "print(\"Collisions are\", collision_count)"
   ]
  }
 ],
 "metadata": {
  "kernelspec": {
   "display_name": "Python 3",
   "language": "python",
   "name": "python3"
  },
  "language_info": {
   "codemirror_mode": {
    "name": "ipython",
    "version": 3
   },
   "file_extension": ".py",
   "mimetype": "text/x-python",
   "name": "python",
   "nbconvert_exporter": "python",
   "pygments_lexer": "ipython3",
   "version": "3.11.0 (main, Oct 24 2022, 18:26:48) [MSC v.1933 64 bit (AMD64)]"
  },
  "orig_nbformat": 4,
  "vscode": {
   "interpreter": {
    "hash": "c261aea317cc0286b3b3261fbba9abdec21eaa57589985bb7a274bf54d6cc0a7"
   }
  }
 },
 "nbformat": 4,
 "nbformat_minor": 2
}
